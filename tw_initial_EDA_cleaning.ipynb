{
 "cells": [
  {
   "cell_type": "markdown",
   "metadata": {},
   "source": [
    "# 1.1 Import Packages"
   ]
  },
  {
   "cell_type": "code",
   "execution_count": 1,
   "metadata": {},
   "outputs": [],
   "source": [
    "import pandas as pd\n",
    "import numpy as np\n",
    "import seaborn as sns\n",
    "import matplotlib.pyplot as plt\n",
    "import time\n",
    "\n",
    "from sklearn.feature_extraction.text import CountVectorizer, TfidfVectorizer\n",
    "from nltk.corpus import stopwords\n",
    "\n",
    "from sklearn.model_selection import GridSearchCV, train_test_split\n",
    "from sklearn.pipeline import Pipeline\n",
    "from sklearn.linear_model import LogisticRegression\n",
    "\n",
    "RANDOM_STATE = 283"
   ]
  },
  {
   "cell_type": "markdown",
   "metadata": {},
   "source": [
    "# 2.1 Import Raw Data"
   ]
  },
  {
   "cell_type": "code",
   "execution_count": 2,
   "metadata": {},
   "outputs": [],
   "source": [
    "# Read csv with raw subreddit data into dataframe\n",
    "df_subreddits = pd.read_csv('./data/subreddits_raw.csv')"
   ]
  },
  {
   "cell_type": "markdown",
   "metadata": {},
   "source": [
    "# 3.1 Basic Characteristics - EDA"
   ]
  },
  {
   "cell_type": "code",
   "execution_count": 3,
   "metadata": {
    "scrolled": true
   },
   "outputs": [
    {
     "data": {
      "text/html": [
       "<div>\n",
       "<style scoped>\n",
       "    .dataframe tbody tr th:only-of-type {\n",
       "        vertical-align: middle;\n",
       "    }\n",
       "\n",
       "    .dataframe tbody tr th {\n",
       "        vertical-align: top;\n",
       "    }\n",
       "\n",
       "    .dataframe thead th {\n",
       "        text-align: right;\n",
       "    }\n",
       "</style>\n",
       "<table border=\"1\" class=\"dataframe\">\n",
       "  <thead>\n",
       "    <tr style=\"text-align: right;\">\n",
       "      <th></th>\n",
       "      <th>subreddit</th>\n",
       "      <th>title</th>\n",
       "      <th>score</th>\n",
       "      <th>id</th>\n",
       "      <th>url</th>\n",
       "      <th>comms_num</th>\n",
       "      <th>created_utc</th>\n",
       "      <th>body</th>\n",
       "    </tr>\n",
       "  </thead>\n",
       "  <tbody>\n",
       "    <tr>\n",
       "      <th>0</th>\n",
       "      <td>nfl</td>\n",
       "      <td>How a World Cup Style Season could work for th...</td>\n",
       "      <td>1</td>\n",
       "      <td>hvxd1n</td>\n",
       "      <td>https://www.reddit.com/r/nfl/comments/hvxd1n/h...</td>\n",
       "      <td>0</td>\n",
       "      <td>1.595437e+09</td>\n",
       "      <td>I want football just as much as anyone else re...</td>\n",
       "    </tr>\n",
       "    <tr>\n",
       "      <th>1</th>\n",
       "      <td>nfl</td>\n",
       "      <td>2020 Offseason Review Series - The Carolina Pa...</td>\n",
       "      <td>4</td>\n",
       "      <td>hvx8z0</td>\n",
       "      <td>https://www.reddit.com/r/nfl/comments/hvx8z0/2...</td>\n",
       "      <td>1</td>\n",
       "      <td>1.595436e+09</td>\n",
       "      <td>#Team: The Carolina Panthers\\n\\n**Division:** ...</td>\n",
       "    </tr>\n",
       "    <tr>\n",
       "      <th>2</th>\n",
       "      <td>nfl</td>\n",
       "      <td>Ten best-performing NFL O-lines by expected ru...</td>\n",
       "      <td>4</td>\n",
       "      <td>hvwvr6</td>\n",
       "      <td>https://www.nfl.com/news/ten-best-performing-n...</td>\n",
       "      <td>20</td>\n",
       "      <td>1.595435e+09</td>\n",
       "      <td>NaN</td>\n",
       "    </tr>\n",
       "    <tr>\n",
       "      <th>3</th>\n",
       "      <td>nfl</td>\n",
       "      <td>[Ravens] “We have agreed to terms with Patrick...</td>\n",
       "      <td>26</td>\n",
       "      <td>hvwiox</td>\n",
       "      <td>https://twitter.com/ravens/status/128595932184...</td>\n",
       "      <td>11</td>\n",
       "      <td>1.595434e+09</td>\n",
       "      <td>NaN</td>\n",
       "    </tr>\n",
       "    <tr>\n",
       "      <th>4</th>\n",
       "      <td>nfl</td>\n",
       "      <td>Texans DT Blacklock upon signing rookie deal: ...</td>\n",
       "      <td>25</td>\n",
       "      <td>hvwgj1</td>\n",
       "      <td>https://www.nfl.com/news/texans-sign-dt-blacklock</td>\n",
       "      <td>9</td>\n",
       "      <td>1.595434e+09</td>\n",
       "      <td>NaN</td>\n",
       "    </tr>\n",
       "  </tbody>\n",
       "</table>\n",
       "</div>"
      ],
      "text/plain": [
       "  subreddit                                              title  score      id  \\\n",
       "0       nfl  How a World Cup Style Season could work for th...      1  hvxd1n   \n",
       "1       nfl  2020 Offseason Review Series - The Carolina Pa...      4  hvx8z0   \n",
       "2       nfl  Ten best-performing NFL O-lines by expected ru...      4  hvwvr6   \n",
       "3       nfl  [Ravens] “We have agreed to terms with Patrick...     26  hvwiox   \n",
       "4       nfl  Texans DT Blacklock upon signing rookie deal: ...     25  hvwgj1   \n",
       "\n",
       "                                                 url  comms_num   created_utc  \\\n",
       "0  https://www.reddit.com/r/nfl/comments/hvxd1n/h...          0  1.595437e+09   \n",
       "1  https://www.reddit.com/r/nfl/comments/hvx8z0/2...          1  1.595436e+09   \n",
       "2  https://www.nfl.com/news/ten-best-performing-n...         20  1.595435e+09   \n",
       "3  https://twitter.com/ravens/status/128595932184...         11  1.595434e+09   \n",
       "4  https://www.nfl.com/news/texans-sign-dt-blacklock          9  1.595434e+09   \n",
       "\n",
       "                                                body  \n",
       "0  I want football just as much as anyone else re...  \n",
       "1  #Team: The Carolina Panthers\\n\\n**Division:** ...  \n",
       "2                                                NaN  \n",
       "3                                                NaN  \n",
       "4                                                NaN  "
      ]
     },
     "execution_count": 3,
     "metadata": {},
     "output_type": "execute_result"
    }
   ],
   "source": [
    "# Display sample of dataset\n",
    "df_subreddits.head()"
   ]
  },
  {
   "cell_type": "code",
   "execution_count": 4,
   "metadata": {},
   "outputs": [
    {
     "data": {
      "text/plain": [
       "(1961, 8)"
      ]
     },
     "execution_count": 4,
     "metadata": {},
     "output_type": "execute_result"
    }
   ],
   "source": [
    "# Display shape of dataset\n",
    "df_subreddits.shape"
   ]
  },
  {
   "cell_type": "code",
   "execution_count": 5,
   "metadata": {},
   "outputs": [
    {
     "data": {
      "text/plain": [
       "(nfl         990\n",
       " patriots    971\n",
       " Name: subreddit, dtype: int64,\n",
       " nfl         0.504844\n",
       " patriots    0.495156\n",
       " Name: subreddit, dtype: float64)"
      ]
     },
     "execution_count": 5,
     "metadata": {},
     "output_type": "execute_result"
    }
   ],
   "source": [
    "# Count records by subreddit, with and without normalization\n",
    "df_subreddits['subreddit'].value_counts(), df_subreddits['subreddit'].value_counts(normalize = True)"
   ]
  },
  {
   "cell_type": "code",
   "execution_count": 6,
   "metadata": {
    "scrolled": true
   },
   "outputs": [
    {
     "data": {
      "text/plain": [
       "subreddit       object\n",
       "title           object\n",
       "score            int64\n",
       "id              object\n",
       "url             object\n",
       "comms_num        int64\n",
       "created_utc    float64\n",
       "body            object\n",
       "dtype: object"
      ]
     },
     "execution_count": 6,
     "metadata": {},
     "output_type": "execute_result"
    }
   ],
   "source": [
    "# Display data types of dataset\n",
    "df_subreddits.dtypes"
   ]
  },
  {
   "cell_type": "markdown",
   "metadata": {},
   "source": [
    "# 3.2 Basic Characteristics - Cleaning and Modification"
   ]
  },
  {
   "cell_type": "code",
   "execution_count": 7,
   "metadata": {},
   "outputs": [],
   "source": [
    "# Convert created_utc from epoch second to a datetime\n",
    "# Conversion adapted from:\n",
    "# https://stackoverflow.com/questions/12400256/converting-epoch-time-into-the-datetime\n",
    "df_subreddits['created_utc'] = df_subreddits['created_utc'].map(lambda x: time.strftime('%Y-%m-%d %H:%M:%S', time.localtime(x)))\n",
    "# Convert created_utc to datetime data type\n",
    "df_subreddits['created_utc'] = pd.to_datetime(df_subreddits['created_utc'])"
   ]
  },
  {
   "cell_type": "code",
   "execution_count": 8,
   "metadata": {},
   "outputs": [],
   "source": [
    "# Add a column for posting hour\n",
    "df_subreddits['posting_hour_utc'] = df_subreddits['created_utc'].map(lambda time: time.hour)"
   ]
  },
  {
   "cell_type": "code",
   "execution_count": 9,
   "metadata": {
    "scrolled": true
   },
   "outputs": [
    {
     "data": {
      "text/plain": [
       "subreddit                   object\n",
       "title                       object\n",
       "score                        int64\n",
       "id                          object\n",
       "url                         object\n",
       "comms_num                    int64\n",
       "created_utc         datetime64[ns]\n",
       "body                        object\n",
       "posting_hour_utc             int64\n",
       "dtype: object"
      ]
     },
     "execution_count": 9,
     "metadata": {},
     "output_type": "execute_result"
    }
   ],
   "source": [
    "# Display data types of dataset\n",
    "df_subreddits.dtypes"
   ]
  },
  {
   "cell_type": "markdown",
   "metadata": {},
   "source": [
    "# 4.1 Null Values - EDA"
   ]
  },
  {
   "cell_type": "code",
   "execution_count": 10,
   "metadata": {
    "scrolled": true
   },
   "outputs": [
    {
     "data": {
      "text/plain": [
       "subreddit              0\n",
       "title                  0\n",
       "score                  0\n",
       "id                     0\n",
       "url                    0\n",
       "comms_num              0\n",
       "created_utc            0\n",
       "body                1664\n",
       "posting_hour_utc       0\n",
       "dtype: int64"
      ]
     },
     "execution_count": 10,
     "metadata": {},
     "output_type": "execute_result"
    }
   ],
   "source": [
    "# Count frequency of null values\n",
    "df_subreddits.isna().sum()"
   ]
  },
  {
   "cell_type": "code",
   "execution_count": 11,
   "metadata": {
    "scrolled": true
   },
   "outputs": [
    {
     "data": {
      "text/html": [
       "<div>\n",
       "<style scoped>\n",
       "    .dataframe tbody tr th:only-of-type {\n",
       "        vertical-align: middle;\n",
       "    }\n",
       "\n",
       "    .dataframe tbody tr th {\n",
       "        vertical-align: top;\n",
       "    }\n",
       "\n",
       "    .dataframe thead th {\n",
       "        text-align: right;\n",
       "    }\n",
       "</style>\n",
       "<table border=\"1\" class=\"dataframe\">\n",
       "  <thead>\n",
       "    <tr style=\"text-align: right;\">\n",
       "      <th></th>\n",
       "      <th>subreddit</th>\n",
       "      <th>title</th>\n",
       "      <th>score</th>\n",
       "      <th>id</th>\n",
       "      <th>url</th>\n",
       "      <th>comms_num</th>\n",
       "      <th>created_utc</th>\n",
       "      <th>body</th>\n",
       "      <th>posting_hour_utc</th>\n",
       "    </tr>\n",
       "  </thead>\n",
       "  <tbody>\n",
       "    <tr>\n",
       "      <th>24</th>\n",
       "      <td>nfl</td>\n",
       "      <td>In honor of the cancelled preseason, who are s...</td>\n",
       "      <td>13</td>\n",
       "      <td>hvnsdn</td>\n",
       "      <td>https://www.reddit.com/r/nfl/comments/hvnsdn/i...</td>\n",
       "      <td>41</td>\n",
       "      <td>2020-07-21 23:16:46</td>\n",
       "      <td>NaN</td>\n",
       "      <td>23</td>\n",
       "    </tr>\n",
       "    <tr>\n",
       "      <th>51</th>\n",
       "      <td>nfl</td>\n",
       "      <td>Despite starting his career in 1935, Don Hutso...</td>\n",
       "      <td>586</td>\n",
       "      <td>hvfto2</td>\n",
       "      <td>https://www.reddit.com/r/nfl/comments/hvfto2/d...</td>\n",
       "      <td>69</td>\n",
       "      <td>2020-07-21 15:02:49</td>\n",
       "      <td>NaN</td>\n",
       "      <td>15</td>\n",
       "    </tr>\n",
       "    <tr>\n",
       "      <th>189</th>\n",
       "      <td>nfl</td>\n",
       "      <td>The last #1 overall pick that wasn't a QB, DE,...</td>\n",
       "      <td>1173</td>\n",
       "      <td>hun4qm</td>\n",
       "      <td>https://www.reddit.com/r/nfl/comments/hun4qm/t...</td>\n",
       "      <td>272</td>\n",
       "      <td>2020-07-20 09:21:46</td>\n",
       "      <td>NaN</td>\n",
       "      <td>9</td>\n",
       "    </tr>\n",
       "    <tr>\n",
       "      <th>194</th>\n",
       "      <td>nfl</td>\n",
       "      <td>Excluding Super Bowl victories, your team is t...</td>\n",
       "      <td>92</td>\n",
       "      <td>humef5</td>\n",
       "      <td>https://www.reddit.com/r/nfl/comments/humef5/e...</td>\n",
       "      <td>254</td>\n",
       "      <td>2020-07-20 08:39:51</td>\n",
       "      <td>NaN</td>\n",
       "      <td>8</td>\n",
       "    </tr>\n",
       "    <tr>\n",
       "      <th>256</th>\n",
       "      <td>nfl</td>\n",
       "      <td>In 2003, Reebok created 8 new uniform designs ...</td>\n",
       "      <td>481</td>\n",
       "      <td>hu2afg</td>\n",
       "      <td>https://www.reddit.com/gallery/hu2afg</td>\n",
       "      <td>95</td>\n",
       "      <td>2020-07-19 09:29:29</td>\n",
       "      <td>NaN</td>\n",
       "      <td>9</td>\n",
       "    </tr>\n",
       "    <tr>\n",
       "      <th>298</th>\n",
       "      <td>nfl</td>\n",
       "      <td>What is the most bland NFL stadium? (Not neces...</td>\n",
       "      <td>38</td>\n",
       "      <td>htk0yo</td>\n",
       "      <td>https://www.reddit.com/r/nfl/comments/htk0yo/w...</td>\n",
       "      <td>158</td>\n",
       "      <td>2020-07-18 11:04:29</td>\n",
       "      <td>NaN</td>\n",
       "      <td>11</td>\n",
       "    </tr>\n",
       "    <tr>\n",
       "      <th>324</th>\n",
       "      <td>nfl</td>\n",
       "      <td>If you could pick any player from your team’s ...</td>\n",
       "      <td>16</td>\n",
       "      <td>htbsza</td>\n",
       "      <td>https://www.reddit.com/r/nfl/comments/htbsza/i...</td>\n",
       "      <td>218</td>\n",
       "      <td>2020-07-18 00:06:01</td>\n",
       "      <td>NaN</td>\n",
       "      <td>0</td>\n",
       "    </tr>\n",
       "    <tr>\n",
       "      <th>330</th>\n",
       "      <td>nfl</td>\n",
       "      <td>When you think of the \"Steel Curtain\", do you ...</td>\n",
       "      <td>27</td>\n",
       "      <td>ht8myi</td>\n",
       "      <td>https://www.reddit.com/r/nfl/comments/ht8myi/w...</td>\n",
       "      <td>41</td>\n",
       "      <td>2020-07-17 20:00:16</td>\n",
       "      <td>NaN</td>\n",
       "      <td>20</td>\n",
       "    </tr>\n",
       "    <tr>\n",
       "      <th>479</th>\n",
       "      <td>nfl</td>\n",
       "      <td>With the addition of a third wildcard team in ...</td>\n",
       "      <td>109</td>\n",
       "      <td>hs9oqe</td>\n",
       "      <td>https://www.reddit.com/r/nfl/comments/hs9oqe/w...</td>\n",
       "      <td>106</td>\n",
       "      <td>2020-07-16 07:31:13</td>\n",
       "      <td>NaN</td>\n",
       "      <td>7</td>\n",
       "    </tr>\n",
       "    <tr>\n",
       "      <th>515</th>\n",
       "      <td>nfl</td>\n",
       "      <td>What teams have the most pressure on them goin...</td>\n",
       "      <td>39</td>\n",
       "      <td>hrxf7f</td>\n",
       "      <td>https://www.reddit.com/r/nfl/comments/hrxf7f/w...</td>\n",
       "      <td>130</td>\n",
       "      <td>2020-07-15 16:17:19</td>\n",
       "      <td>NaN</td>\n",
       "      <td>16</td>\n",
       "    </tr>\n",
       "    <tr>\n",
       "      <th>516</th>\n",
       "      <td>nfl</td>\n",
       "      <td>What is the greatest NFL team in history w/o a...</td>\n",
       "      <td>26</td>\n",
       "      <td>hrx0ve</td>\n",
       "      <td>https://www.reddit.com/r/nfl/comments/hrx0ve/w...</td>\n",
       "      <td>70</td>\n",
       "      <td>2020-07-15 15:55:41</td>\n",
       "      <td>NaN</td>\n",
       "      <td>15</td>\n",
       "    </tr>\n",
       "    <tr>\n",
       "      <th>517</th>\n",
       "      <td>nfl</td>\n",
       "      <td>Which player have you seen play live in high s...</td>\n",
       "      <td>31</td>\n",
       "      <td>hrwu42</td>\n",
       "      <td>https://www.reddit.com/r/nfl/comments/hrwu42/w...</td>\n",
       "      <td>128</td>\n",
       "      <td>2020-07-15 15:45:15</td>\n",
       "      <td>NaN</td>\n",
       "      <td>15</td>\n",
       "    </tr>\n",
       "    <tr>\n",
       "      <th>546</th>\n",
       "      <td>nfl</td>\n",
       "      <td>[Gallery] Training camps are just two weeks aw...</td>\n",
       "      <td>25</td>\n",
       "      <td>hrtx7r</td>\n",
       "      <td>https://www.reddit.com/gallery/hrtx7r</td>\n",
       "      <td>10</td>\n",
       "      <td>2020-07-15 13:12:46</td>\n",
       "      <td>NaN</td>\n",
       "      <td>13</td>\n",
       "    </tr>\n",
       "    <tr>\n",
       "      <th>592</th>\n",
       "      <td>nfl</td>\n",
       "      <td>7 QBs in NFL history have led the league in pa...</td>\n",
       "      <td>117</td>\n",
       "      <td>hrmbi3</td>\n",
       "      <td>https://www.reddit.com/r/nfl/comments/hrmbi3/7...</td>\n",
       "      <td>32</td>\n",
       "      <td>2020-07-15 06:04:33</td>\n",
       "      <td>NaN</td>\n",
       "      <td>6</td>\n",
       "    </tr>\n",
       "    <tr>\n",
       "      <th>600</th>\n",
       "      <td>nfl</td>\n",
       "      <td>Who would you choose to start a franchise with...</td>\n",
       "      <td>16</td>\n",
       "      <td>hrh8jr</td>\n",
       "      <td>https://www.reddit.com/r/nfl/comments/hrh8jr/w...</td>\n",
       "      <td>128</td>\n",
       "      <td>2020-07-14 22:42:26</td>\n",
       "      <td>NaN</td>\n",
       "      <td>22</td>\n",
       "    </tr>\n",
       "    <tr>\n",
       "      <th>619</th>\n",
       "      <td>nfl</td>\n",
       "      <td>What is your preferred height for corners and ...</td>\n",
       "      <td>7</td>\n",
       "      <td>hra3uq</td>\n",
       "      <td>https://www.reddit.com/r/nfl/comments/hra3uq/w...</td>\n",
       "      <td>58</td>\n",
       "      <td>2020-07-14 15:11:41</td>\n",
       "      <td>NaN</td>\n",
       "      <td>15</td>\n",
       "    </tr>\n",
       "    <tr>\n",
       "      <th>626</th>\n",
       "      <td>nfl</td>\n",
       "      <td>custom feed for all 33 NFL subreddits</td>\n",
       "      <td>71</td>\n",
       "      <td>hr92pn</td>\n",
       "      <td>https://www.reddit.com/user/je-de-tre-kwon/m/n...</td>\n",
       "      <td>16</td>\n",
       "      <td>2020-07-14 14:17:59</td>\n",
       "      <td>NaN</td>\n",
       "      <td>14</td>\n",
       "    </tr>\n",
       "    <tr>\n",
       "      <th>660</th>\n",
       "      <td>nfl</td>\n",
       "      <td>What is the greatest offensive individual perf...</td>\n",
       "      <td>32</td>\n",
       "      <td>hr5e2v</td>\n",
       "      <td>https://www.reddit.com/r/nfl/comments/hr5e2v/w...</td>\n",
       "      <td>135</td>\n",
       "      <td>2020-07-14 11:08:06</td>\n",
       "      <td>NaN</td>\n",
       "      <td>11</td>\n",
       "    </tr>\n",
       "    <tr>\n",
       "      <th>771</th>\n",
       "      <td>nfl</td>\n",
       "      <td>If you could have any Quarterback past or pres...</td>\n",
       "      <td>5</td>\n",
       "      <td>hq9pho</td>\n",
       "      <td>https://www.reddit.com/r/nfl/comments/hq9pho/i...</td>\n",
       "      <td>79</td>\n",
       "      <td>2020-07-12 23:41:32</td>\n",
       "      <td>NaN</td>\n",
       "      <td>23</td>\n",
       "    </tr>\n",
       "    <tr>\n",
       "      <th>819</th>\n",
       "      <td>nfl</td>\n",
       "      <td>Which franchises seem to always have good/grea...</td>\n",
       "      <td>302</td>\n",
       "      <td>hptl1o</td>\n",
       "      <td>https://www.reddit.com/r/nfl/comments/hptl1o/w...</td>\n",
       "      <td>390</td>\n",
       "      <td>2020-07-12 06:24:19</td>\n",
       "      <td>NaN</td>\n",
       "      <td>6</td>\n",
       "    </tr>\n",
       "    <tr>\n",
       "      <th>820</th>\n",
       "      <td>nfl</td>\n",
       "      <td>Which franchise seems to always have good/grea...</td>\n",
       "      <td>177</td>\n",
       "      <td>hpt9qq</td>\n",
       "      <td>https://www.reddit.com/r/nfl/comments/hpt9qq/w...</td>\n",
       "      <td>148</td>\n",
       "      <td>2020-07-12 05:57:14</td>\n",
       "      <td>NaN</td>\n",
       "      <td>5</td>\n",
       "    </tr>\n",
       "    <tr>\n",
       "      <th>822</th>\n",
       "      <td>nfl</td>\n",
       "      <td>What are the minimum requirements for a dynasty?</td>\n",
       "      <td>67</td>\n",
       "      <td>hpo87w</td>\n",
       "      <td>https://www.reddit.com/r/nfl/comments/hpo87w/w...</td>\n",
       "      <td>177</td>\n",
       "      <td>2020-07-11 22:14:13</td>\n",
       "      <td>NaN</td>\n",
       "      <td>22</td>\n",
       "    </tr>\n",
       "    <tr>\n",
       "      <th>854</th>\n",
       "      <td>nfl</td>\n",
       "      <td>Fans who switched from one fan base to another...</td>\n",
       "      <td>0</td>\n",
       "      <td>hpcxyd</td>\n",
       "      <td>https://www.reddit.com/r/nfl/comments/hpcxyd/f...</td>\n",
       "      <td>69</td>\n",
       "      <td>2020-07-11 10:31:52</td>\n",
       "      <td>NaN</td>\n",
       "      <td>10</td>\n",
       "    </tr>\n",
       "    <tr>\n",
       "      <th>880</th>\n",
       "      <td>nfl</td>\n",
       "      <td>All right boys an girls, whos your teams sleep...</td>\n",
       "      <td>19</td>\n",
       "      <td>hozn87</td>\n",
       "      <td>https://www.reddit.com/r/nfl/comments/hozn87/a...</td>\n",
       "      <td>149</td>\n",
       "      <td>2020-07-10 17:29:34</td>\n",
       "      <td>NaN</td>\n",
       "      <td>17</td>\n",
       "    </tr>\n",
       "    <tr>\n",
       "      <th>965</th>\n",
       "      <td>nfl</td>\n",
       "      <td>What's your opinion on the Bert Bell award com...</td>\n",
       "      <td>0</td>\n",
       "      <td>hocb8f</td>\n",
       "      <td>https://www.reddit.com/r/nfl/comments/hocb8f/w...</td>\n",
       "      <td>14</td>\n",
       "      <td>2020-07-09 15:58:45</td>\n",
       "      <td>NaN</td>\n",
       "      <td>15</td>\n",
       "    </tr>\n",
       "    <tr>\n",
       "      <th>990</th>\n",
       "      <td>patriots</td>\n",
       "      <td>Happy Birthday to the man, the myth, the legen...</td>\n",
       "      <td>10</td>\n",
       "      <td>hvwgp7</td>\n",
       "      <td>https://www.reddit.com/gallery/hvwgp7</td>\n",
       "      <td>2</td>\n",
       "      <td>2020-07-22 10:05:17</td>\n",
       "      <td>NaN</td>\n",
       "      <td>10</td>\n",
       "    </tr>\n",
       "    <tr>\n",
       "      <th>1041</th>\n",
       "      <td>patriots</td>\n",
       "      <td>Looky here!</td>\n",
       "      <td>59</td>\n",
       "      <td>ht6px4</td>\n",
       "      <td>https://www.reddit.com/gallery/ht6px4</td>\n",
       "      <td>20</td>\n",
       "      <td>2020-07-17 17:49:22</td>\n",
       "      <td>NaN</td>\n",
       "      <td>17</td>\n",
       "    </tr>\n",
       "  </tbody>\n",
       "</table>\n",
       "</div>"
      ],
      "text/plain": [
       "     subreddit                                              title  score  \\\n",
       "24         nfl  In honor of the cancelled preseason, who are s...     13   \n",
       "51         nfl  Despite starting his career in 1935, Don Hutso...    586   \n",
       "189        nfl  The last #1 overall pick that wasn't a QB, DE,...   1173   \n",
       "194        nfl  Excluding Super Bowl victories, your team is t...     92   \n",
       "256        nfl  In 2003, Reebok created 8 new uniform designs ...    481   \n",
       "298        nfl  What is the most bland NFL stadium? (Not neces...     38   \n",
       "324        nfl  If you could pick any player from your team’s ...     16   \n",
       "330        nfl  When you think of the \"Steel Curtain\", do you ...     27   \n",
       "479        nfl  With the addition of a third wildcard team in ...    109   \n",
       "515        nfl  What teams have the most pressure on them goin...     39   \n",
       "516        nfl  What is the greatest NFL team in history w/o a...     26   \n",
       "517        nfl  Which player have you seen play live in high s...     31   \n",
       "546        nfl  [Gallery] Training camps are just two weeks aw...     25   \n",
       "592        nfl  7 QBs in NFL history have led the league in pa...    117   \n",
       "600        nfl  Who would you choose to start a franchise with...     16   \n",
       "619        nfl  What is your preferred height for corners and ...      7   \n",
       "626        nfl              custom feed for all 33 NFL subreddits     71   \n",
       "660        nfl  What is the greatest offensive individual perf...     32   \n",
       "771        nfl  If you could have any Quarterback past or pres...      5   \n",
       "819        nfl  Which franchises seem to always have good/grea...    302   \n",
       "820        nfl  Which franchise seems to always have good/grea...    177   \n",
       "822        nfl   What are the minimum requirements for a dynasty?     67   \n",
       "854        nfl  Fans who switched from one fan base to another...      0   \n",
       "880        nfl  All right boys an girls, whos your teams sleep...     19   \n",
       "965        nfl  What's your opinion on the Bert Bell award com...      0   \n",
       "990   patriots  Happy Birthday to the man, the myth, the legen...     10   \n",
       "1041  patriots                                        Looky here!     59   \n",
       "\n",
       "          id                                                url  comms_num  \\\n",
       "24    hvnsdn  https://www.reddit.com/r/nfl/comments/hvnsdn/i...         41   \n",
       "51    hvfto2  https://www.reddit.com/r/nfl/comments/hvfto2/d...         69   \n",
       "189   hun4qm  https://www.reddit.com/r/nfl/comments/hun4qm/t...        272   \n",
       "194   humef5  https://www.reddit.com/r/nfl/comments/humef5/e...        254   \n",
       "256   hu2afg              https://www.reddit.com/gallery/hu2afg         95   \n",
       "298   htk0yo  https://www.reddit.com/r/nfl/comments/htk0yo/w...        158   \n",
       "324   htbsza  https://www.reddit.com/r/nfl/comments/htbsza/i...        218   \n",
       "330   ht8myi  https://www.reddit.com/r/nfl/comments/ht8myi/w...         41   \n",
       "479   hs9oqe  https://www.reddit.com/r/nfl/comments/hs9oqe/w...        106   \n",
       "515   hrxf7f  https://www.reddit.com/r/nfl/comments/hrxf7f/w...        130   \n",
       "516   hrx0ve  https://www.reddit.com/r/nfl/comments/hrx0ve/w...         70   \n",
       "517   hrwu42  https://www.reddit.com/r/nfl/comments/hrwu42/w...        128   \n",
       "546   hrtx7r              https://www.reddit.com/gallery/hrtx7r         10   \n",
       "592   hrmbi3  https://www.reddit.com/r/nfl/comments/hrmbi3/7...         32   \n",
       "600   hrh8jr  https://www.reddit.com/r/nfl/comments/hrh8jr/w...        128   \n",
       "619   hra3uq  https://www.reddit.com/r/nfl/comments/hra3uq/w...         58   \n",
       "626   hr92pn  https://www.reddit.com/user/je-de-tre-kwon/m/n...         16   \n",
       "660   hr5e2v  https://www.reddit.com/r/nfl/comments/hr5e2v/w...        135   \n",
       "771   hq9pho  https://www.reddit.com/r/nfl/comments/hq9pho/i...         79   \n",
       "819   hptl1o  https://www.reddit.com/r/nfl/comments/hptl1o/w...        390   \n",
       "820   hpt9qq  https://www.reddit.com/r/nfl/comments/hpt9qq/w...        148   \n",
       "822   hpo87w  https://www.reddit.com/r/nfl/comments/hpo87w/w...        177   \n",
       "854   hpcxyd  https://www.reddit.com/r/nfl/comments/hpcxyd/f...         69   \n",
       "880   hozn87  https://www.reddit.com/r/nfl/comments/hozn87/a...        149   \n",
       "965   hocb8f  https://www.reddit.com/r/nfl/comments/hocb8f/w...         14   \n",
       "990   hvwgp7              https://www.reddit.com/gallery/hvwgp7          2   \n",
       "1041  ht6px4              https://www.reddit.com/gallery/ht6px4         20   \n",
       "\n",
       "             created_utc body  posting_hour_utc  \n",
       "24   2020-07-21 23:16:46  NaN                23  \n",
       "51   2020-07-21 15:02:49  NaN                15  \n",
       "189  2020-07-20 09:21:46  NaN                 9  \n",
       "194  2020-07-20 08:39:51  NaN                 8  \n",
       "256  2020-07-19 09:29:29  NaN                 9  \n",
       "298  2020-07-18 11:04:29  NaN                11  \n",
       "324  2020-07-18 00:06:01  NaN                 0  \n",
       "330  2020-07-17 20:00:16  NaN                20  \n",
       "479  2020-07-16 07:31:13  NaN                 7  \n",
       "515  2020-07-15 16:17:19  NaN                16  \n",
       "516  2020-07-15 15:55:41  NaN                15  \n",
       "517  2020-07-15 15:45:15  NaN                15  \n",
       "546  2020-07-15 13:12:46  NaN                13  \n",
       "592  2020-07-15 06:04:33  NaN                 6  \n",
       "600  2020-07-14 22:42:26  NaN                22  \n",
       "619  2020-07-14 15:11:41  NaN                15  \n",
       "626  2020-07-14 14:17:59  NaN                14  \n",
       "660  2020-07-14 11:08:06  NaN                11  \n",
       "771  2020-07-12 23:41:32  NaN                23  \n",
       "819  2020-07-12 06:24:19  NaN                 6  \n",
       "820  2020-07-12 05:57:14  NaN                 5  \n",
       "822  2020-07-11 22:14:13  NaN                22  \n",
       "854  2020-07-11 10:31:52  NaN                10  \n",
       "880  2020-07-10 17:29:34  NaN                17  \n",
       "965  2020-07-09 15:58:45  NaN                15  \n",
       "990  2020-07-22 10:05:17  NaN                10  \n",
       "1041 2020-07-17 17:49:22  NaN                17  "
      ]
     },
     "execution_count": 11,
     "metadata": {},
     "output_type": "execute_result"
    }
   ],
   "source": [
    "# Search for records with null body values with reddit.com in the url.\n",
    "# Body appears to mostly be null on link posts, but it's possible there are some empty text posts.\n",
    "\n",
    "# Define masks for urls including reddit and for null value in body\n",
    "mask_reddit = (df_subreddits['url'].str.contains('www.reddit.com'))\n",
    "mask_null = (df_subreddits['body'].isna())\n",
    "# Display records that fit criteria above\n",
    "df_subreddits[mask_reddit & mask_null]"
   ]
  },
  {
   "cell_type": "code",
   "execution_count": 12,
   "metadata": {
    "scrolled": true
   },
   "outputs": [
    {
     "data": {
      "text/html": [
       "<div>\n",
       "<style scoped>\n",
       "    .dataframe tbody tr th:only-of-type {\n",
       "        vertical-align: middle;\n",
       "    }\n",
       "\n",
       "    .dataframe tbody tr th {\n",
       "        vertical-align: top;\n",
       "    }\n",
       "\n",
       "    .dataframe thead th {\n",
       "        text-align: right;\n",
       "    }\n",
       "</style>\n",
       "<table border=\"1\" class=\"dataframe\">\n",
       "  <thead>\n",
       "    <tr style=\"text-align: right;\">\n",
       "      <th></th>\n",
       "      <th>subreddit</th>\n",
       "      <th>title</th>\n",
       "      <th>score</th>\n",
       "      <th>id</th>\n",
       "      <th>url</th>\n",
       "      <th>comms_num</th>\n",
       "      <th>created_utc</th>\n",
       "      <th>body</th>\n",
       "      <th>posting_hour_utc</th>\n",
       "    </tr>\n",
       "  </thead>\n",
       "  <tbody>\n",
       "  </tbody>\n",
       "</table>\n",
       "</div>"
      ],
      "text/plain": [
       "Empty DataFrame\n",
       "Columns: [subreddit, title, score, id, url, comms_num, created_utc, body, posting_hour_utc]\n",
       "Index: []"
      ]
     },
     "execution_count": 12,
     "metadata": {},
     "output_type": "execute_result"
    }
   ],
   "source": [
    "# Search for the inverse - non-null body values without reddit.com in the url.\n",
    "# This should be empty if all non-null body posts are text posts.\n",
    "df_subreddits[~mask_reddit & ~mask_null]"
   ]
  },
  {
   "cell_type": "markdown",
   "metadata": {},
   "source": [
    "> The only records with null body values and reddit.com in the url that do not appear to be text posts are image galleries typified by www.reddit.com/gallery."
   ]
  },
  {
   "cell_type": "markdown",
   "metadata": {},
   "source": [
    "# 4.2 Null Values - Cleaning and Modification"
   ]
  },
  {
   "cell_type": "code",
   "execution_count": 13,
   "metadata": {},
   "outputs": [],
   "source": [
    "# Use null values to define posts as either text or link posts\n",
    "\n",
    "# Create mask for posts with the reddit gallery in the url\n",
    "mask_gallery = (df_subreddits['url'].str.contains('www.reddit.com/gallery'))\n",
    "# Add text post column as a boolean if the body is not null\n",
    "# Or if it is null and includes the reddit domain but not the gallery\n",
    "df_subreddits['text_post'] = (~mask_null | (mask_reddit & ~mask_gallery & mask_null)).astype(int)"
   ]
  },
  {
   "cell_type": "code",
   "execution_count": 14,
   "metadata": {},
   "outputs": [],
   "source": [
    "# Fill all null body values with empty strings\n",
    "df_subreddits['body'].fillna('', inplace = True)"
   ]
  },
  {
   "cell_type": "markdown",
   "metadata": {},
   "source": [
    "# 5.1 Posting Time - EDA"
   ]
  },
  {
   "cell_type": "code",
   "execution_count": 15,
   "metadata": {
    "scrolled": false
   },
   "outputs": [
    {
     "data": {
      "image/png": "[encoded data removed]",
      "text/plain": [
       "<Figure size 576x432 with 1 Axes>"
      ]
     },
     "metadata": {
      "needs_background": "light"
     },
     "output_type": "display_data"
    }
   ],
   "source": [
    "# Plot posting time by subreddit\n",
    "\n",
    "# Instantiate figure and set size\n",
    "plt.figure(figsize = (8,6))\n",
    "\n",
    "# Loop through all subreddits included in the dataset and add a distribution plot for each\n",
    "for sub in df_subreddits['subreddit'].unique():\n",
    "    # Keep the KDE in order to normalize for subreddits with significantly different posting rates\n",
    "    sns.distplot(df_subreddits.loc[df_subreddits['subreddit'] == sub, 'posting_hour_utc'],\n",
    "                 bins = 24,\n",
    "                 kde = True,\n",
    "                 label = f'r/{sub}'\n",
    "                )\n",
    "\n",
    "# Limit x axis to the hours of the day\n",
    "plt.xlim(0,23)\n",
    "    \n",
    "# Set title and lable names\n",
    "plt.title('UTC Posting Hour by Subreddit', size = 24)\n",
    "plt.xlabel('Posting Hour (UTC)')\n",
    "plt.ylabel('Posting Probability')\n",
    "plt.legend();"
   ]
  },
  {
   "cell_type": "markdown",
   "metadata": {},
   "source": [
    "> The two chosen subreddits show significantly different posting patterns, potentially providing some predictive value in posting hour."
   ]
  },
  {
   "cell_type": "markdown",
   "metadata": {},
   "source": [
    "# 6.1 Post Type - EDA"
   ]
  },
  {
   "cell_type": "code",
   "execution_count": 16,
   "metadata": {
    "scrolled": true
   },
   "outputs": [
    {
     "data": {
      "text/plain": [
       "(subreddit  text_post\n",
       " nfl        0            807\n",
       "            1            183\n",
       " patriots   0            834\n",
       "            1            137\n",
       " Name: text_post, dtype: int64,\n",
       " subreddit  text_post\n",
       " nfl        0            0.815152\n",
       "            1            0.184848\n",
       " patriots   0            0.858908\n",
       "            1            0.141092\n",
       " Name: text_post, dtype: float64)"
      ]
     },
     "execution_count": 16,
     "metadata": {},
     "output_type": "execute_result"
    }
   ],
   "source": [
    "# Count records by post type and by subreddit, with and without normalization\n",
    "df_subreddits.groupby('subreddit')['text_post'].value_counts(), df_subreddits.groupby('subreddit')['text_post'].value_counts(normalize = True)"
   ]
  },
  {
   "cell_type": "markdown",
   "metadata": {},
   "source": [
    "> There appears to be a marginal potential difference in the rate of text posts between r/nfl and r/patriots, potentially providing some predictive value."
   ]
  },
  {
   "cell_type": "markdown",
   "metadata": {},
   "source": [
    "# 6.2 Post Score - EDA"
   ]
  },
  {
   "cell_type": "code",
   "execution_count": 17,
   "metadata": {
    "scrolled": false
   },
   "outputs": [
    {
     "data": {
      "image/png": "[encoded data removed]",
      "text/plain": [
       "<Figure size 576x432 with 1 Axes>"
      ]
     },
     "metadata": {
      "needs_background": "light"
     },
     "output_type": "display_data"
    }
   ],
   "source": [
    "# Plot post scores by subreddit\n",
    "\n",
    "# Instantiate figure and set size\n",
    "plt.figure(figsize = (8,6))\n",
    "\n",
    "# Loop through all subreddits included in the dataset and add a distribution plot for each\n",
    "for sub in df_subreddits['subreddit'].unique():\n",
    "    # Remove the KDE to highlight differences in posting rate and upvote rate\n",
    "    sns.distplot(df_subreddits.loc[df_subreddits['subreddit'] == sub, 'score'],\n",
    "                 kde = False,\n",
    "                 label = f'r/{sub}'\n",
    "                )\n",
    "\n",
    "# Set title and lable names\n",
    "plt.title('Post Score by Subreddit', size = 24)\n",
    "plt.xlabel('Score / Net Upvotes', size = 16)\n",
    "plt.ylabel('Posts', size = 16)\n",
    "plt.legend();"
   ]
  },
  {
   "cell_type": "code",
   "execution_count": 18,
   "metadata": {
    "scrolled": false
   },
   "outputs": [
    {
     "data": {
      "image/png": "[encoded data removed]",
      "text/plain": [
       "<Figure size 576x432 with 1 Axes>"
      ]
     },
     "metadata": {
      "needs_background": "light"
     },
     "output_type": "display_data"
    }
   ],
   "source": [
    "# Plot post scores by subreddit as a scatterplot\n",
    "\n",
    "# Instantiate figure and set size\n",
    "plt.figure(figsize = (8,6))\n",
    "\n",
    "\n",
    "sns.scatterplot(df_subreddits['score'],\n",
    "                df_subreddits['subreddit']\n",
    "               )\n",
    "\n",
    "# Set title and lable names\n",
    "plt.title('Post Scores by Subreddit', size = 24)\n",
    "plt.xlabel('Score / Net Upvotes', size = 16)\n",
    "plt.ylabel('Subreddit', size = 16)\n",
    "plt.yticks([0,1],['r/nfl','r/patriots']);"
   ]
  },
  {
   "cell_type": "markdown",
   "metadata": {},
   "source": [
    "> The above charts show that post score provides significant predictive power, as r/nfl features many more highly scored posts than r/patriots, even if both are significantly skewed towards lower scores. The distributions are very similar, meaning any form of normalization would likely eliminate this benefit."
   ]
  },
  {
   "cell_type": "markdown",
   "metadata": {},
   "source": [
    "# 7.1 Post Comments - EDA"
   ]
  },
  {
   "cell_type": "code",
   "execution_count": 19,
   "metadata": {
    "scrolled": false
   },
   "outputs": [
    {
     "data": {
      "image/png": "[encoded data removed]",
      "text/plain": [
       "<Figure size 576x432 with 1 Axes>"
      ]
     },
     "metadata": {
      "needs_background": "light"
     },
     "output_type": "display_data"
    }
   ],
   "source": [
    "# Plot post scores by subreddit\n",
    "\n",
    "# Instantiate figure and set size\n",
    "plt.figure(figsize = (8,6))\n",
    "\n",
    "# Loop through all subreddits included in the dataset and add a distribution plot for each\n",
    "for sub in df_subreddits['subreddit'].unique():\n",
    "    # Remove the KDE to highlight differences in posting rate and upvote rate\n",
    "    sns.distplot(df_subreddits.loc[df_subreddits['subreddit'] == sub, 'comms_num'],\n",
    "                 kde = False,\n",
    "                 label = f'r/{sub}'\n",
    "                )\n",
    "\n",
    "# Set title and lable names\n",
    "plt.title('Post Comments by Subreddit', size = 24)\n",
    "plt.xlabel('Number of Comments', size = 16)\n",
    "plt.ylabel('Posts', size = 16)\n",
    "plt.legend();"
   ]
  },
  {
   "cell_type": "code",
   "execution_count": 20,
   "metadata": {
    "scrolled": false
   },
   "outputs": [
    {
     "data": {
      "image/png": "[encoded data removed]",
      "text/plain": [
       "<Figure size 576x432 with 1 Axes>"
      ]
     },
     "metadata": {
      "needs_background": "light"
     },
     "output_type": "display_data"
    }
   ],
   "source": [
    "# Plot post scores by subreddit as a scatterplot\n",
    "\n",
    "# Instantiate figure and set size\n",
    "plt.figure(figsize = (8,6))\n",
    "\n",
    "\n",
    "sns.scatterplot(df_subreddits['comms_num'],\n",
    "                df_subreddits['subreddit']\n",
    "               )\n",
    "\n",
    "# Set title and lable names\n",
    "plt.title('Post Comments by Subreddit', size = 24)\n",
    "plt.xlabel('Number of Comments', size = 16)\n",
    "plt.ylabel('Subreddit', size = 16)\n",
    "plt.yticks([0,1],['r/nfl','r/patriots']);"
   ]
  },
  {
   "cell_type": "markdown",
   "metadata": {},
   "source": [
    "> Similar to the post scores, there is a clear difference in the range of post comments between the two subreddits, suggesting it could provide some added predictive power. The distributions are very similar, meaning any form of normalization would likely eliminate this benefit."
   ]
  },
  {
   "cell_type": "markdown",
   "metadata": {},
   "source": [
    "# 8.1 Simplified URL - Engineering"
   ]
  },
  {
   "cell_type": "code",
   "execution_count": 21,
   "metadata": {},
   "outputs": [],
   "source": [
    "# Create a new column that strips the url column down to just the domain\n",
    "# Approach taken from:\n",
    "# https://stackoverflow.com/questions/14625693/find-http-and-or-www-and-strip-from-domain-leaving-domain-com\n",
    "\n",
    "# Create new column by replacing all url roots\n",
    "df_subreddits['url_clean'] = df_subreddits['url'].str.replace('http://','').str.replace('https://','').str.replace('www.','')\n",
    "\n",
    "#Remove all trailing paths\n",
    "df_subreddits['url_clean'] = df_subreddits['url_clean'].map(lambda x: x.split('/')[0])"
   ]
  },
  {
   "cell_type": "markdown",
   "metadata": {},
   "source": [
    "# 8.2 Simplified URL - EDA"
   ]
  },
  {
   "cell_type": "code",
   "execution_count": 22,
   "metadata": {},
   "outputs": [
    {
     "data": {
      "text/html": [
       "<div>\n",
       "<style scoped>\n",
       "    .dataframe tbody tr th:only-of-type {\n",
       "        vertical-align: middle;\n",
       "    }\n",
       "\n",
       "    .dataframe tbody tr th {\n",
       "        vertical-align: top;\n",
       "    }\n",
       "\n",
       "    .dataframe thead th {\n",
       "        text-align: right;\n",
       "    }\n",
       "</style>\n",
       "<table border=\"1\" class=\"dataframe\">\n",
       "  <thead>\n",
       "    <tr style=\"text-align: right;\">\n",
       "      <th></th>\n",
       "      <th>base_url</th>\n",
       "      <th>clean_url</th>\n",
       "    </tr>\n",
       "  </thead>\n",
       "  <tbody>\n",
       "    <tr>\n",
       "      <th>nfl</th>\n",
       "      <td>988</td>\n",
       "      <td>89</td>\n",
       "    </tr>\n",
       "    <tr>\n",
       "      <th>patriots</th>\n",
       "      <td>967</td>\n",
       "      <td>96</td>\n",
       "    </tr>\n",
       "    <tr>\n",
       "      <th>all_subs</th>\n",
       "      <td>1946</td>\n",
       "      <td>158</td>\n",
       "    </tr>\n",
       "  </tbody>\n",
       "</table>\n",
       "</div>"
      ],
      "text/plain": [
       "          base_url  clean_url\n",
       "nfl            988         89\n",
       "patriots       967         96\n",
       "all_subs      1946        158"
      ]
     },
     "execution_count": 22,
     "metadata": {},
     "output_type": "execute_result"
    }
   ],
   "source": [
    "# Count unique values for each url column by subreddit\n",
    "df_uniques = pd.DataFrame()\n",
    "df_uniques['base_url'] = df_subreddits.groupby('subreddit')['url'].nunique()\n",
    "df_uniques['clean_url'] = df_subreddits.groupby('subreddit')['url_clean'].nunique()\n",
    "\n",
    "# Append total dataset unique values\n",
    "df_uniques = df_uniques.append(pd.DataFrame({'base_url': [df_subreddits['url'].nunique()],\n",
    "                                            'clean_url': [df_subreddits['url_clean'].nunique()]}\n",
    "                                            , index = ['all_subs']))\n",
    "\n",
    "# Display dataframe\n",
    "df_uniques"
   ]
  },
  {
   "cell_type": "code",
   "execution_count": 23,
   "metadata": {},
   "outputs": [
    {
     "name": "stdout",
     "output_type": "stream",
     "text": [
      "There were 60 unique domains that appeared more than once\n"
     ]
    },
    {
     "data": {
      "text/plain": [
       "twitter.com                      479\n",
       "reddit.com                       324\n",
       "i.redd.it                        242\n",
       "youtu.be                         129\n",
       "v.redd.it                        105\n",
       "youtube.com                       97\n",
       "profootballtalk.nbcsports.com     58\n",
       "espn.com                          50\n",
       "nfl.com                           38\n",
       "streamable.com                    30\n",
       "instagram.com                     27\n",
       "patriotswire.usatoday.com         18\n",
       "imgur.com                         18\n",
       "mobile.twitter.com                17\n",
       "cbssports.com                     17\n",
       "si.com                            16\n",
       "i.imgur.com                       15\n",
       "sports.yahoo.com                  12\n",
       "nbcsports.com                     11\n",
       "weei.radio.com                    10\n",
       "musketfire.com                     9\n",
       "clnsmedia.com                      9\n",
       "patspulpit.com                     9\n",
       "heavy.com                          8\n",
       "theringer.com                      7\n",
       "nesn.com                           7\n",
       "bleacherreport.com                 7\n",
       "washingtonpost.com                 6\n",
       "m.youtube.com                      6\n",
       "pff.com                            6\n",
       "lastwordonprofootball.com          6\n",
       "theathletic.com                    5\n",
       "wyexpect.com                       4\n",
       "boston.com                         4\n",
       "bostonherald.com                   3\n",
       "improveyourgameday.com             3\n",
       "google.com                         3\n",
       "apnews.com                         3\n",
       "touchdownwire.usatoday.com         3\n",
       "inquirer.com                       2\n",
       "np.reddit.com                      2\n",
       "sports.theonion.com                2\n",
       "forbes.com                         2\n",
       "cnn.com                            2\n",
       "mfootballanalytics.com             2\n",
       "sotsports.com                      2\n",
       "wcvb.com                           2\n",
       "facebook.com                       2\n",
       "pbs.twimg.com                      2\n",
       "jetswire.usatoday.com              2\n",
       "nydailynews.com                    2\n",
       "podcasts.apple.com                 2\n",
       "ftw.usatoday.com                   2\n",
       "                                   2\n",
       "bloggingtheboys.com                2\n",
       "pro-football-reference.com         2\n",
       "247sports.com                      2\n",
       "en.wikipedia.org                   2\n",
       "masslive.com                       2\n",
       "believeinbostonsports.com          2\n",
       "Name: url_clean, dtype: int64"
      ]
     },
     "execution_count": 23,
     "metadata": {},
     "output_type": "execute_result"
    }
   ],
   "source": [
    "# Show domains that appeared more than once\n",
    "repeat_urls = sum(df_subreddits['url_clean'].value_counts() > 1)\n",
    "print(f'There were {repeat_urls} unique domains that appeared more than once')\n",
    "df_subreddits['url_clean'].value_counts()[df_subreddits['url_clean'].value_counts() > 1]"
   ]
  },
  {
   "cell_type": "markdown",
   "metadata": {},
   "source": [
    "> While the base URLs are nearly unique within the raw dataset, these condense to only around 160 domains between the two subreddits. Given the number of regionally-specific news outlets included within these sites, there could be some modest predictive power from these cleaned urls."
   ]
  },
  {
   "cell_type": "markdown",
   "metadata": {},
   "source": [
    "# 9.1 Word Vectors - Engineering"
   ]
  },
  {
   "cell_type": "code",
   "execution_count": 24,
   "metadata": {},
   "outputs": [],
   "source": [
    "# Combine all text columns into a single column for vectorizing\n",
    "df_subreddits['all_text'] = df_subreddits['title'] + ' ' + df_subreddits['body'] + ' ' + df_subreddits['url_clean']"
   ]
  },
  {
   "cell_type": "code",
   "execution_count": 25,
   "metadata": {},
   "outputs": [],
   "source": [
    "# Define initial stop words list\n",
    "stops = stopwords.words('english')\n",
    "\n",
    "# Add custom stop words based on EDA below\n",
    "stops.extend(['com','https','http'])\n",
    "\n",
    "# Convert stop list to a set\n",
    "stops = set(stops)\n",
    "\n",
    "# Instantiate count vectorizer with desired hyperparameters\n",
    "# Excluding min and max document frequency for EDA purposes\n",
    "cv_reddit = CountVectorizer(analyzer = 'word',\n",
    "                            strip_accents = 'unicode',\n",
    "                            lowercase = True,\n",
    "                            stop_words = stops,\n",
    "                            ngram_range = (1,3)\n",
    "                           )\n",
    "\n",
    "# Fit and transform vectorizer to entire dataset\n",
    "ar_vector = cv_reddit.fit_transform(df_subreddits['all_text'])\n",
    "\n",
    "# Convert transformed status into a dataframe\n",
    "df_vector = pd.DataFrame(ar_vector.toarray(), columns = cv_reddit.get_feature_names())"
   ]
  },
  {
   "cell_type": "code",
   "execution_count": 26,
   "metadata": {
    "scrolled": false
   },
   "outputs": [
    {
     "name": "stdout",
     "output_type": "stream",
     "text": [
      "(1961, 12) (1961, 134717)\n"
     ]
    },
    {
     "data": {
      "text/html": [
       "<div>\n",
       "<style scoped>\n",
       "    .dataframe tbody tr th:only-of-type {\n",
       "        vertical-align: middle;\n",
       "    }\n",
       "\n",
       "    .dataframe tbody tr th {\n",
       "        vertical-align: top;\n",
       "    }\n",
       "\n",
       "    .dataframe thead th {\n",
       "        text-align: right;\n",
       "    }\n",
       "</style>\n",
       "<table border=\"1\" class=\"dataframe\">\n",
       "  <thead>\n",
       "    <tr style=\"text-align: right;\">\n",
       "      <th></th>\n",
       "      <th>00</th>\n",
       "      <th>00 2004</th>\n",
       "      <th>00 2004 pro</th>\n",
       "      <th>00 48</th>\n",
       "      <th>00 48 week</th>\n",
       "      <th>00 4th</th>\n",
       "      <th>00 4th quarter</th>\n",
       "      <th>00 59</th>\n",
       "      <th>00 59 redd</th>\n",
       "      <th>00 ever</th>\n",
       "      <th>...</th>\n",
       "      <th>øf łist øf</th>\n",
       "      <th>øne</th>\n",
       "      <th>øne øf</th>\n",
       "      <th>øne øf thøse</th>\n",
       "      <th>łetsgøpats</th>\n",
       "      <th>łetsgøpats welcome</th>\n",
       "      <th>łetsgøpats welcome new</th>\n",
       "      <th>łist</th>\n",
       "      <th>łist øf</th>\n",
       "      <th>łist øf things</th>\n",
       "    </tr>\n",
       "  </thead>\n",
       "  <tbody>\n",
       "    <tr>\n",
       "      <th>0</th>\n",
       "      <td>0</td>\n",
       "      <td>0</td>\n",
       "      <td>0</td>\n",
       "      <td>0</td>\n",
       "      <td>0</td>\n",
       "      <td>0</td>\n",
       "      <td>0</td>\n",
       "      <td>0</td>\n",
       "      <td>0</td>\n",
       "      <td>0</td>\n",
       "      <td>...</td>\n",
       "      <td>0</td>\n",
       "      <td>0</td>\n",
       "      <td>0</td>\n",
       "      <td>0</td>\n",
       "      <td>0</td>\n",
       "      <td>0</td>\n",
       "      <td>0</td>\n",
       "      <td>0</td>\n",
       "      <td>0</td>\n",
       "      <td>0</td>\n",
       "    </tr>\n",
       "    <tr>\n",
       "      <th>1</th>\n",
       "      <td>0</td>\n",
       "      <td>0</td>\n",
       "      <td>0</td>\n",
       "      <td>0</td>\n",
       "      <td>0</td>\n",
       "      <td>0</td>\n",
       "      <td>0</td>\n",
       "      <td>0</td>\n",
       "      <td>0</td>\n",
       "      <td>0</td>\n",
       "      <td>...</td>\n",
       "      <td>0</td>\n",
       "      <td>0</td>\n",
       "      <td>0</td>\n",
       "      <td>0</td>\n",
       "      <td>0</td>\n",
       "      <td>0</td>\n",
       "      <td>0</td>\n",
       "      <td>0</td>\n",
       "      <td>0</td>\n",
       "      <td>0</td>\n",
       "    </tr>\n",
       "    <tr>\n",
       "      <th>2</th>\n",
       "      <td>0</td>\n",
       "      <td>0</td>\n",
       "      <td>0</td>\n",
       "      <td>0</td>\n",
       "      <td>0</td>\n",
       "      <td>0</td>\n",
       "      <td>0</td>\n",
       "      <td>0</td>\n",
       "      <td>0</td>\n",
       "      <td>0</td>\n",
       "      <td>...</td>\n",
       "      <td>0</td>\n",
       "      <td>0</td>\n",
       "      <td>0</td>\n",
       "      <td>0</td>\n",
       "      <td>0</td>\n",
       "      <td>0</td>\n",
       "      <td>0</td>\n",
       "      <td>0</td>\n",
       "      <td>0</td>\n",
       "      <td>0</td>\n",
       "    </tr>\n",
       "    <tr>\n",
       "      <th>3</th>\n",
       "      <td>0</td>\n",
       "      <td>0</td>\n",
       "      <td>0</td>\n",
       "      <td>0</td>\n",
       "      <td>0</td>\n",
       "      <td>0</td>\n",
       "      <td>0</td>\n",
       "      <td>0</td>\n",
       "      <td>0</td>\n",
       "      <td>0</td>\n",
       "      <td>...</td>\n",
       "      <td>0</td>\n",
       "      <td>0</td>\n",
       "      <td>0</td>\n",
       "      <td>0</td>\n",
       "      <td>0</td>\n",
       "      <td>0</td>\n",
       "      <td>0</td>\n",
       "      <td>0</td>\n",
       "      <td>0</td>\n",
       "      <td>0</td>\n",
       "    </tr>\n",
       "    <tr>\n",
       "      <th>4</th>\n",
       "      <td>0</td>\n",
       "      <td>0</td>\n",
       "      <td>0</td>\n",
       "      <td>0</td>\n",
       "      <td>0</td>\n",
       "      <td>0</td>\n",
       "      <td>0</td>\n",
       "      <td>0</td>\n",
       "      <td>0</td>\n",
       "      <td>0</td>\n",
       "      <td>...</td>\n",
       "      <td>0</td>\n",
       "      <td>0</td>\n",
       "      <td>0</td>\n",
       "      <td>0</td>\n",
       "      <td>0</td>\n",
       "      <td>0</td>\n",
       "      <td>0</td>\n",
       "      <td>0</td>\n",
       "      <td>0</td>\n",
       "      <td>0</td>\n",
       "    </tr>\n",
       "  </tbody>\n",
       "</table>\n",
       "<p>5 rows × 134717 columns</p>\n",
       "</div>"
      ],
      "text/plain": [
       "   00  00 2004  00 2004 pro  00 48  00 48 week  00 4th  00 4th quarter  00 59  \\\n",
       "0   0        0            0      0           0       0               0      0   \n",
       "1   0        0            0      0           0       0               0      0   \n",
       "2   0        0            0      0           0       0               0      0   \n",
       "3   0        0            0      0           0       0               0      0   \n",
       "4   0        0            0      0           0       0               0      0   \n",
       "\n",
       "   00 59 redd  00 ever  ...  øf łist øf  øne  øne øf  øne øf thøse  \\\n",
       "0           0        0  ...           0    0       0             0   \n",
       "1           0        0  ...           0    0       0             0   \n",
       "2           0        0  ...           0    0       0             0   \n",
       "3           0        0  ...           0    0       0             0   \n",
       "4           0        0  ...           0    0       0             0   \n",
       "\n",
       "   łetsgøpats  łetsgøpats welcome  łetsgøpats welcome new  łist  łist øf  \\\n",
       "0           0                   0                       0     0        0   \n",
       "1           0                   0                       0     0        0   \n",
       "2           0                   0                       0     0        0   \n",
       "3           0                   0                       0     0        0   \n",
       "4           0                   0                       0     0        0   \n",
       "\n",
       "   łist øf things  \n",
       "0               0  \n",
       "1               0  \n",
       "2               0  \n",
       "3               0  \n",
       "4               0  \n",
       "\n",
       "[5 rows x 134717 columns]"
      ]
     },
     "execution_count": 26,
     "metadata": {},
     "output_type": "execute_result"
    }
   ],
   "source": [
    "# Confirm data looks as expected\n",
    "\n",
    "# Print the shape of the two dataframes\n",
    "print(df_subreddits.shape, df_vector.shape)\n",
    "\n",
    "# Display top of vector dataframe\n",
    "df_vector.head()"
   ]
  },
  {
   "cell_type": "code",
   "execution_count": 27,
   "metadata": {},
   "outputs": [],
   "source": [
    "# Recreate vector dataframe merged with original dataframe\n",
    "df_vector = pd.merge(df_subreddits, df_vector, left_index = True, right_index = True)"
   ]
  },
  {
   "cell_type": "markdown",
   "metadata": {},
   "source": [
    "# 9.2 Word Vectors - EDA"
   ]
  },
  {
   "cell_type": "code",
   "execution_count": 28,
   "metadata": {
    "scrolled": true
   },
   "outputs": [
    {
     "data": {
      "image/png": "[encoded data removed]",
      "text/plain": [
       "<Figure size 432x288 with 1 Axes>"
      ]
     },
     "metadata": {
      "needs_background": "light"
     },
     "output_type": "display_data"
    }
   ],
   "source": [
    "# Chart top 15 most common words across both subreddits\n",
    "df_vector.iloc[:,12:].sum().sort_values(ascending = False).head(15).plot(kind = 'bar')\n",
    "plt.title('All Subreddits - Top 15 Most Common Title Words');"
   ]
  },
  {
   "cell_type": "code",
   "execution_count": 29,
   "metadata": {
    "scrolled": false
   },
   "outputs": [
    {
     "data": {
      "image/png": "[encoded data removed]",
      "text/plain": [
       "<Figure size 432x288 with 1 Axes>"
      ]
     },
     "metadata": {
      "needs_background": "light"
     },
     "output_type": "display_data"
    }
   ],
   "source": [
    "# Chart top 15 most common words in r/nfl\n",
    "df_vector[df_vector['subreddit_x'] == 'nfl'].iloc[:,12:].sum().sort_values(ascending = False).head(15).plot(kind = 'bar')\n",
    "plt.title('r/NFL - Top 15 Most Common Title Words');"
   ]
  },
  {
   "cell_type": "code",
   "execution_count": 30,
   "metadata": {
    "scrolled": false
   },
   "outputs": [
    {
     "data": {
      "image/png": "[encoded data removed]",
      "text/plain": [
       "<Figure size 432x288 with 1 Axes>"
      ]
     },
     "metadata": {
      "needs_background": "light"
     },
     "output_type": "display_data"
    }
   ],
   "source": [
    "# Chart top 15 most common words in r/nfl\n",
    "df_vector[df_vector['subreddit_x'] == 'patriots'].iloc[:,12:].sum().sort_values(ascending = False).head(15).plot(kind = 'bar')\n",
    "plt.title('r/Patriots - Top 15 Most Common Title Words');"
   ]
  },
  {
   "cell_type": "markdown",
   "metadata": {},
   "source": [
    "> The top words from the two subreddits are unsurprisingly quite different, with the team-specific subreddit focusing heavily on the team itself and notable players. Some stop words were identified in the initial run and then removed above: com, https, http. These were removed from the url column, but not the body."
   ]
  },
  {
   "cell_type": "markdown",
   "metadata": {},
   "source": [
    "# 10.1 Word Frequency Vectors - Engineering"
   ]
  },
  {
   "cell_type": "code",
   "execution_count": 31,
   "metadata": {},
   "outputs": [],
   "source": [
    "# Instantiate count vectorizer with desired hyperparameters\n",
    "# Excluding min and max document frequency for EDA purposes\n",
    "tf_reddit = TfidfVectorizer(analyzer = 'word',\n",
    "                            strip_accents = 'unicode',\n",
    "                            lowercase = True,\n",
    "                            stop_words = stops,\n",
    "                            ngram_range = (1,3)\n",
    "                           )\n",
    "\n",
    "# Fit and transform vectorizer to entire dataset\n",
    "ar_tfvector = tf_reddit.fit_transform(df_subreddits['all_text'])\n",
    "\n",
    "# Convert transformed status into a dataframe\n",
    "df_tfvector = pd.DataFrame(ar_tfvector.toarray(), columns = tf_reddit.get_feature_names())"
   ]
  },
  {
   "cell_type": "code",
   "execution_count": 32,
   "metadata": {
    "scrolled": false
   },
   "outputs": [
    {
     "name": "stdout",
     "output_type": "stream",
     "text": [
      "(1961, 12) (1961, 134717)\n"
     ]
    },
    {
     "data": {
      "text/html": [
       "<div>\n",
       "<style scoped>\n",
       "    .dataframe tbody tr th:only-of-type {\n",
       "        vertical-align: middle;\n",
       "    }\n",
       "\n",
       "    .dataframe tbody tr th {\n",
       "        vertical-align: top;\n",
       "    }\n",
       "\n",
       "    .dataframe thead th {\n",
       "        text-align: right;\n",
       "    }\n",
       "</style>\n",
       "<table border=\"1\" class=\"dataframe\">\n",
       "  <thead>\n",
       "    <tr style=\"text-align: right;\">\n",
       "      <th></th>\n",
       "      <th>00</th>\n",
       "      <th>00 2004</th>\n",
       "      <th>00 2004 pro</th>\n",
       "      <th>00 48</th>\n",
       "      <th>00 48 week</th>\n",
       "      <th>00 4th</th>\n",
       "      <th>00 4th quarter</th>\n",
       "      <th>00 59</th>\n",
       "      <th>00 59 redd</th>\n",
       "      <th>00 ever</th>\n",
       "      <th>...</th>\n",
       "      <th>øf łist øf</th>\n",
       "      <th>øne</th>\n",
       "      <th>øne øf</th>\n",
       "      <th>øne øf thøse</th>\n",
       "      <th>łetsgøpats</th>\n",
       "      <th>łetsgøpats welcome</th>\n",
       "      <th>łetsgøpats welcome new</th>\n",
       "      <th>łist</th>\n",
       "      <th>łist øf</th>\n",
       "      <th>łist øf things</th>\n",
       "    </tr>\n",
       "  </thead>\n",
       "  <tbody>\n",
       "    <tr>\n",
       "      <th>0</th>\n",
       "      <td>0.0</td>\n",
       "      <td>0.0</td>\n",
       "      <td>0.0</td>\n",
       "      <td>0.0</td>\n",
       "      <td>0.0</td>\n",
       "      <td>0.0</td>\n",
       "      <td>0.0</td>\n",
       "      <td>0.0</td>\n",
       "      <td>0.0</td>\n",
       "      <td>0.0</td>\n",
       "      <td>...</td>\n",
       "      <td>0.0</td>\n",
       "      <td>0.0</td>\n",
       "      <td>0.0</td>\n",
       "      <td>0.0</td>\n",
       "      <td>0.0</td>\n",
       "      <td>0.0</td>\n",
       "      <td>0.0</td>\n",
       "      <td>0.0</td>\n",
       "      <td>0.0</td>\n",
       "      <td>0.0</td>\n",
       "    </tr>\n",
       "    <tr>\n",
       "      <th>1</th>\n",
       "      <td>0.0</td>\n",
       "      <td>0.0</td>\n",
       "      <td>0.0</td>\n",
       "      <td>0.0</td>\n",
       "      <td>0.0</td>\n",
       "      <td>0.0</td>\n",
       "      <td>0.0</td>\n",
       "      <td>0.0</td>\n",
       "      <td>0.0</td>\n",
       "      <td>0.0</td>\n",
       "      <td>...</td>\n",
       "      <td>0.0</td>\n",
       "      <td>0.0</td>\n",
       "      <td>0.0</td>\n",
       "      <td>0.0</td>\n",
       "      <td>0.0</td>\n",
       "      <td>0.0</td>\n",
       "      <td>0.0</td>\n",
       "      <td>0.0</td>\n",
       "      <td>0.0</td>\n",
       "      <td>0.0</td>\n",
       "    </tr>\n",
       "    <tr>\n",
       "      <th>2</th>\n",
       "      <td>0.0</td>\n",
       "      <td>0.0</td>\n",
       "      <td>0.0</td>\n",
       "      <td>0.0</td>\n",
       "      <td>0.0</td>\n",
       "      <td>0.0</td>\n",
       "      <td>0.0</td>\n",
       "      <td>0.0</td>\n",
       "      <td>0.0</td>\n",
       "      <td>0.0</td>\n",
       "      <td>...</td>\n",
       "      <td>0.0</td>\n",
       "      <td>0.0</td>\n",
       "      <td>0.0</td>\n",
       "      <td>0.0</td>\n",
       "      <td>0.0</td>\n",
       "      <td>0.0</td>\n",
       "      <td>0.0</td>\n",
       "      <td>0.0</td>\n",
       "      <td>0.0</td>\n",
       "      <td>0.0</td>\n",
       "    </tr>\n",
       "    <tr>\n",
       "      <th>3</th>\n",
       "      <td>0.0</td>\n",
       "      <td>0.0</td>\n",
       "      <td>0.0</td>\n",
       "      <td>0.0</td>\n",
       "      <td>0.0</td>\n",
       "      <td>0.0</td>\n",
       "      <td>0.0</td>\n",
       "      <td>0.0</td>\n",
       "      <td>0.0</td>\n",
       "      <td>0.0</td>\n",
       "      <td>...</td>\n",
       "      <td>0.0</td>\n",
       "      <td>0.0</td>\n",
       "      <td>0.0</td>\n",
       "      <td>0.0</td>\n",
       "      <td>0.0</td>\n",
       "      <td>0.0</td>\n",
       "      <td>0.0</td>\n",
       "      <td>0.0</td>\n",
       "      <td>0.0</td>\n",
       "      <td>0.0</td>\n",
       "    </tr>\n",
       "    <tr>\n",
       "      <th>4</th>\n",
       "      <td>0.0</td>\n",
       "      <td>0.0</td>\n",
       "      <td>0.0</td>\n",
       "      <td>0.0</td>\n",
       "      <td>0.0</td>\n",
       "      <td>0.0</td>\n",
       "      <td>0.0</td>\n",
       "      <td>0.0</td>\n",
       "      <td>0.0</td>\n",
       "      <td>0.0</td>\n",
       "      <td>...</td>\n",
       "      <td>0.0</td>\n",
       "      <td>0.0</td>\n",
       "      <td>0.0</td>\n",
       "      <td>0.0</td>\n",
       "      <td>0.0</td>\n",
       "      <td>0.0</td>\n",
       "      <td>0.0</td>\n",
       "      <td>0.0</td>\n",
       "      <td>0.0</td>\n",
       "      <td>0.0</td>\n",
       "    </tr>\n",
       "  </tbody>\n",
       "</table>\n",
       "<p>5 rows × 134717 columns</p>\n",
       "</div>"
      ],
      "text/plain": [
       "    00  00 2004  00 2004 pro  00 48  00 48 week  00 4th  00 4th quarter  \\\n",
       "0  0.0      0.0          0.0    0.0         0.0     0.0             0.0   \n",
       "1  0.0      0.0          0.0    0.0         0.0     0.0             0.0   \n",
       "2  0.0      0.0          0.0    0.0         0.0     0.0             0.0   \n",
       "3  0.0      0.0          0.0    0.0         0.0     0.0             0.0   \n",
       "4  0.0      0.0          0.0    0.0         0.0     0.0             0.0   \n",
       "\n",
       "   00 59  00 59 redd  00 ever  ...  øf łist øf  øne  øne øf  øne øf thøse  \\\n",
       "0    0.0         0.0      0.0  ...         0.0  0.0     0.0           0.0   \n",
       "1    0.0         0.0      0.0  ...         0.0  0.0     0.0           0.0   \n",
       "2    0.0         0.0      0.0  ...         0.0  0.0     0.0           0.0   \n",
       "3    0.0         0.0      0.0  ...         0.0  0.0     0.0           0.0   \n",
       "4    0.0         0.0      0.0  ...         0.0  0.0     0.0           0.0   \n",
       "\n",
       "   łetsgøpats  łetsgøpats welcome  łetsgøpats welcome new  łist  łist øf  \\\n",
       "0         0.0                 0.0                     0.0   0.0      0.0   \n",
       "1         0.0                 0.0                     0.0   0.0      0.0   \n",
       "2         0.0                 0.0                     0.0   0.0      0.0   \n",
       "3         0.0                 0.0                     0.0   0.0      0.0   \n",
       "4         0.0                 0.0                     0.0   0.0      0.0   \n",
       "\n",
       "   łist øf things  \n",
       "0             0.0  \n",
       "1             0.0  \n",
       "2             0.0  \n",
       "3             0.0  \n",
       "4             0.0  \n",
       "\n",
       "[5 rows x 134717 columns]"
      ]
     },
     "execution_count": 32,
     "metadata": {},
     "output_type": "execute_result"
    }
   ],
   "source": [
    "# Confirm data looks as expected\n",
    "\n",
    "# Print the shape of the two dataframes\n",
    "print(df_subreddits.shape, df_tfvector.shape)\n",
    "\n",
    "# Display top of vector dataframe\n",
    "df_tfvector.head()"
   ]
  },
  {
   "cell_type": "code",
   "execution_count": 33,
   "metadata": {},
   "outputs": [],
   "source": [
    "# Recreate vector dataframe merged with original dataframe\n",
    "df_tfvector = pd.merge(df_subreddits, df_tfvector, left_index = True, right_index = True)"
   ]
  },
  {
   "cell_type": "markdown",
   "metadata": {},
   "source": [
    "# 10.2 Word Frequency Vectors - EDA"
   ]
  },
  {
   "cell_type": "code",
   "execution_count": 34,
   "metadata": {
    "scrolled": true
   },
   "outputs": [
    {
     "data": {
      "image/png": "[encoded data removed]",
      "text/plain": [
       "<Figure size 432x288 with 1 Axes>"
      ]
     },
     "metadata": {
      "needs_background": "light"
     },
     "output_type": "display_data"
    }
   ],
   "source": [
    "# Chart top 15 most common words across both subreddits\n",
    "df_tfvector.iloc[:,12:].sum().sort_values(ascending = False).head(15).plot(kind = 'bar')\n",
    "plt.title('All Subreddits - Top 15 Most Common Title Words');"
   ]
  },
  {
   "cell_type": "code",
   "execution_count": 35,
   "metadata": {
    "scrolled": false
   },
   "outputs": [
    {
     "data": {
      "image/png": "[encoded data removed]",
      "text/plain": [
       "<Figure size 432x288 with 1 Axes>"
      ]
     },
     "metadata": {
      "needs_background": "light"
     },
     "output_type": "display_data"
    }
   ],
   "source": [
    "# Chart top 15 most common words in r/nfl\n",
    "df_tfvector[df_tfvector['subreddit_x'] == 'nfl'].iloc[:,12:].sum().sort_values(ascending = False).head(15).plot(kind = 'bar')\n",
    "plt.title('r/NFL - Top 15 Most Common Title Words');"
   ]
  },
  {
   "cell_type": "code",
   "execution_count": 36,
   "metadata": {
    "scrolled": false
   },
   "outputs": [
    {
     "data": {
      "image/png": "[encoded data removed]",
      "text/plain": [
       "<Figure size 432x288 with 1 Axes>"
      ]
     },
     "metadata": {
      "needs_background": "light"
     },
     "output_type": "display_data"
    }
   ],
   "source": [
    "# Chart top 15 most common words in r/nfl\n",
    "df_tfvector[df_tfvector['subreddit_x'] == 'patriots'].iloc[:,12:].sum().sort_values(ascending = False).head(15).plot(kind = 'bar')\n",
    "plt.title('r/Patriots - Top 15 Most Common Title Words');"
   ]
  },
  {
   "cell_type": "markdown",
   "metadata": {},
   "source": [
    "> The differences once again center around the team name and players specifically on the team, but the TF-IDF approach highlighted some less frequently mentioned players, potentially increasing its utility relative to a simple count vectorizer."
   ]
  },
  {
   "cell_type": "markdown",
   "metadata": {},
   "source": [
    "# 11.1 Parameter Testing - Data Preparation"
   ]
  },
  {
   "cell_type": "markdown",
   "metadata": {},
   "source": [
    "Because the vectorizer cannot be included in a grid search if we also intend to use other columns that are not getting vectorized, this step establishes the standard set of parameters to be used by the count vectorizer."
   ]
  },
  {
   "cell_type": "code",
   "execution_count": 37,
   "metadata": {},
   "outputs": [],
   "source": [
    "# Set X equal to the combined text column for\n",
    "X = df_subreddits['all_text']\n",
    "# Set y equal to the subreddit\n",
    "y = df_subreddits['subreddit']"
   ]
  },
  {
   "cell_type": "code",
   "execution_count": 38,
   "metadata": {},
   "outputs": [],
   "source": [
    "# Train-test split the data\n",
    "X_train, X_test, y_train, y_test = train_test_split(X, y, random_state = RANDOM_STATE)"
   ]
  },
  {
   "cell_type": "markdown",
   "metadata": {},
   "source": [
    "# 11.2 Parameter Testing - Count Vectorizer\n"
   ]
  },
  {
   "cell_type": "code",
   "execution_count": 39,
   "metadata": {},
   "outputs": [],
   "source": [
    "# Define standard vectorizer parameters\n",
    "params_test = {\n",
    "    'cvec__stop_words': [None,stops], # stops carried over from section 9.1\n",
    "    'cvec__ngram_range': [(1,1),(1,2),(1,3)],\n",
    "    'cvec__max_df': [0.99,0.95,0.9],\n",
    "    'cvec__min_df': [1,2,3],\n",
    "    'cvec__max_features': [4000,5000,6000]\n",
    "}\n",
    "\n",
    "# Instantiate pipeline with count vectorizer and logistic regression\n",
    "pipe_test_cv = Pipeline([\n",
    "    ('cvec', CountVectorizer(analyzer = 'word',\n",
    "                             strip_accents = 'unicode',\n",
    "                             lowercase = True)),\n",
    "    ('logreg', LogisticRegression())\n",
    "])\n",
    "\n",
    "# Instantiate grid search for count vectorizer testing\n",
    "grid_test_cv = GridSearchCV(pipe_test_cv,\n",
    "                            params_test,\n",
    "                            verbose = True,\n",
    "                            cv = 5)\n",
    "\n",
    "# Fit model on only the all_text column of X to test transformation\n",
    "grid_test_cv.fit(X_train, y_train)"
   ]
  },
  {
   "cell_type": "code",
   "execution_count": 40,
   "metadata": {},
   "outputs": [],
   "source": [
    "# Display best cross validation score\n",
    "grid_test_cv.best_score_"
   ]
  },
  {
   "cell_type": "code",
   "execution_count": 41,
   "metadata": {},
   "outputs": [],
   "source": [
    "# Display best parameter set - these will be used for the count vectorized dataset\n",
    "grid_test_cv.best_params_"
   ]
  },
  {
   "cell_type": "markdown",
   "metadata": {},
   "source": [
    "# 11.2 Parameter Testing - TF-IDF"
   ]
  },
  {
   "cell_type": "code",
   "execution_count": 42,
   "metadata": {},
   "outputs": [],
   "source": [
    "# Define standard vectorizer parameters\n",
    "# Initial run parameters are included in comments\n",
    "params_test = {\n",
    "    'tfidf__stop_words': [None], # [None, stops], # stops carried over from section 9.1\n",
    "    'tfidf__ngram_range': [(1,2)], # [(1,1),(1,2),(1,3)],\n",
    "    'tfidf__max_df': [0.99], # [0.99,0.95,0.9],\n",
    "    'tfidf__min_df': [2], # [1,2,3],\n",
    "    'tfidf__max_features': [6000, 7000, 8000] # [4000,5000,6000]\n",
    "}\n",
    "\n",
    "# Instantiate pipeline with TF-IDF vectorizer and logistic regression\n",
    "pipe_test_tf = Pipeline([\n",
    "    ('tfidf', TfidfVectorizer(analyzer = 'word',\n",
    "                              strip_accents = 'unicode',\n",
    "                              lowercase = True)),\n",
    "    ('logreg', LogisticRegression())\n",
    "])\n",
    "\n",
    "# Instantiate grid search for count vectorizer testing\n",
    "grid_test_tf = GridSearchCV(pipe_test_tf,\n",
    "                            params_test,\n",
    "                            verbose = True,\n",
    "                            cv = 5)\n",
    "\n",
    "# Fit model on only the all_text column of X to test transformation\n",
    "grid_test_tf.fit(X_train, y_train)"
   ]
  },
  {
   "cell_type": "code",
   "execution_count": 43,
   "metadata": {},
   "outputs": [],
   "source": [
    "# Display best cross validation score\n",
    "grid_test_tf.best_score_"
   ]
  },
  {
   "cell_type": "code",
   "execution_count": 44,
   "metadata": {},
   "outputs": [],
   "source": [
    "# Display best parameter set - these will be used for the count vectorized dataset\n",
    "grid_test_tf.best_params_"
   ]
  },
  {
   "cell_type": "markdown",
   "metadata": {},
   "source": [
    "The best parameters for both of the above tests proved to importantly different, though between both test models there was only one parameter (tfidf_max_features) requiring additional testing. The final parameters for both vectorization methods are listed below:\n",
    "\n",
    "***Count Vectorizer***\n",
    "\n",
    "```\n",
    "{'max_df': 0.99,\n",
    " 'max_features': 5000,\n",
    " 'min_df': 1,\n",
    " 'ngram_range': (1, 1),\n",
    " 'stop_words': stops\n",
    " }\n",
    " ```\n",
    "\n",
    "***TF-IDF***\n",
    "\n",
    "``` \n",
    " {'tfidf__max_df': 0.99,\n",
    " 'tfidf__max_features': 6000,\n",
    " 'tfidf__min_df': 2,\n",
    " 'tfidf__ngram_range': (1, 2),\n",
    " 'tfidf__stop_words': None}\n",
    " ```"
   ]
  },
  {
   "cell_type": "markdown",
   "metadata": {},
   "source": [
    "# 12.1 Final Data - Preparation"
   ]
  },
  {
   "cell_type": "code",
   "execution_count": 45,
   "metadata": {
    "scrolled": true
   },
   "outputs": [],
   "source": [
    "# Convert the cleaned url column into dummy variables rather than text to avoid treating like comparable text\n",
    "# For instance, this avoids conflating \"nfl.com\" links with references to \"nfl\" within the title\n",
    "df_subreddits = pd.get_dummies(df_subreddits, columns = ['url_clean'], prefix = 'link', drop_first = False)\n",
    "\n",
    "# Drop \"link_reddit.com\" rather than first column\n",
    "df_subreddits.drop(columns = ['link_reddit.com'], inplace = True)\n",
    "\n",
    "# Re-combine all remaining text columns into a new combined column for vectorizing\n",
    "df_subreddits['all_text'] = df_subreddits['title'] + ' ' + df_subreddits['body']\n",
    "\n",
    "# Drop original text columns\n",
    "df_subreddits.drop(columns = ['title','body','url'], inplace = True)"
   ]
  },
  {
   "cell_type": "markdown",
   "metadata": {},
   "source": [
    "# 12.2 Final Data - Vectorize"
   ]
  },
  {
   "cell_type": "code",
   "execution_count": 54,
   "metadata": {},
   "outputs": [],
   "source": [
    "# Create final count vectorized dataset\n",
    "\n",
    "# Instantiate count vectorizer with desired hyperparameters\n",
    "cv_reddit = CountVectorizer(analyzer = 'word',\n",
    "                            strip_accents = 'unicode',\n",
    "                            lowercase = True,\n",
    "                            stop_words = stops,\n",
    "                            ngram_range = (1,1),\n",
    "                            max_df = 0.99,\n",
    "                            max_features = 5000,\n",
    "                            min_df = 1\n",
    "                           )\n",
    "\n",
    "# Fit vectorizer to the training data and transform entire dataset\n",
    "cv_reddit.fit(X_train)\n",
    "ar_vector = cv_reddit.transform(df_subreddits['all_text'])\n",
    "\n",
    "# Convert transformed status into a dataframe\n",
    "df_vector = pd.DataFrame(ar_vector.toarray(), columns = cv_reddit.get_feature_names())\n",
    "\n",
    "# Recreate vector dataframe merged with original dataframe\n",
    "df_vector = pd.merge(df_subreddits.drop(columns = 'all_text'), df_vector, left_index = True, right_index = True)"
   ]
  },
  {
   "cell_type": "code",
   "execution_count": 55,
   "metadata": {},
   "outputs": [],
   "source": [
    "# Create final TF-IDF vectorized dataset\n",
    "\n",
    "# Instantiate count vectorizer with desired hyperparameters\n",
    "tf_reddit = TfidfVectorizer(analyzer = 'word',\n",
    "                            strip_accents = 'unicode',\n",
    "                            lowercase = True,\n",
    "                            stop_words = None,\n",
    "                            ngram_range = (1,2),\n",
    "                            max_df = 0.99,\n",
    "                            max_features = 6000,\n",
    "                            min_df = 2\n",
    "                           )\n",
    "\n",
    "# Fit vectorizer to the training data and transform entire dataset\n",
    "tf_reddit.fit(X_train)\n",
    "ar_tfvector = tf_reddit.transform(df_subreddits['all_text'])\n",
    "\n",
    "# Convert transformed status into a dataframe\n",
    "df_tfvector = pd.DataFrame(ar_tfvector.toarray(), columns = tf_reddit.get_feature_names())\n",
    "\n",
    "# Recreate vector dataframe merged with original dataframe\n",
    "df_tfvector = pd.merge(df_subreddits.drop(columns = 'all_text'), df_tfvector, left_index = True, right_index = True)"
   ]
  },
  {
   "cell_type": "code",
   "execution_count": 63,
   "metadata": {},
   "outputs": [],
   "source": [
    "# Rename duplicated columns taken from original dataset\n",
    "df_vector.rename(columns = {\n",
    "    'subreddit_x': 'post_subreddit',\n",
    "    'score_x': 'post_score',\n",
    "    'id_x': 'post_id'\n",
    "},inplace = True)\n",
    "\n",
    "df_tfvector.rename(columns = {\n",
    "    'subreddit_x': 'post_subreddit',\n",
    "    'score_x': 'post_score',\n",
    "    'id_x': 'post_id'\n",
    "},inplace = True)"
   ]
  },
  {
   "cell_type": "markdown",
   "metadata": {},
   "source": [
    "# 12.3 Final Data - Export"
   ]
  },
  {
   "cell_type": "code",
   "execution_count": 66,
   "metadata": {},
   "outputs": [],
   "source": [
    "# Write cleaned dataset without vectorized data so that models can test between different vectorizer parameters\n",
    "df_subreddits.to_csv('./data/subreddits_clean.csv', index = False)\n",
    "df_vector.to_csv('./data/subreddits_count.csv', index = False)\n",
    "df_tfvector.to_csv('./data/subreddits_tfidf.csv', index = False)"
   ]
  }
 ],
 "metadata": {
  "kernelspec": {
   "display_name": "Python 3",
   "language": "python",
   "name": "python3"
  },
  "language_info": {
   "codemirror_mode": {
    "name": "ipython",
    "version": 3
   },
   "file_extension": ".py",
   "mimetype": "text/x-python",
   "name": "python",
   "nbconvert_exporter": "python",
   "pygments_lexer": "ipython3",
   "version": "3.7.6"
  }
 },
 "nbformat": 4,
 "nbformat_minor": 4
}
